{
 "cells": [
  {
   "cell_type": "code",
   "execution_count": 2,
   "metadata": {
    "collapsed": true
   },
   "outputs": [],
   "source": [
    "import numpy as np\n",
    "from sklearn.datasets import fetch_20newsgroups\n",
    "from collections import Counter\n",
    "import heapq\n",
    "import nltk\n",
    "from nltk.corpus import stopwords\n",
    "import itertools\n",
    "%matplotlib inline"
   ]
  },
  {
   "cell_type": "code",
   "execution_count": 3,
   "metadata": {},
   "outputs": [
    {
     "name": "stdout",
     "output_type": "stream",
     "text": [
      "[nltk_data] Downloading package stopwords to\n",
      "[nltk_data]     C:\\Users\\Student\\AppData\\Roaming\\nltk_data...\n",
      "[nltk_data]   Unzipping corpora\\stopwords.zip.\n"
     ]
    },
    {
     "data": {
      "text/plain": [
       "True"
      ]
     },
     "execution_count": 3,
     "metadata": {},
     "output_type": "execute_result"
    }
   ],
   "source": [
    "nltk.download('stopwords')"
   ]
  },
  {
   "cell_type": "code",
   "execution_count": 14,
   "metadata": {},
   "outputs": [],
   "source": [
    "stop = set(stopwords.words('russian'))"
   ]
  },
  {
   "cell_type": "code",
   "execution_count": 15,
   "metadata": {},
   "outputs": [
    {
     "name": "stdout",
     "output_type": "stream",
     "text": [
      "{'под', 'мы', 'хоть', 'иногда', 'раз', 'для', 'о', 'через', 'будто', 'вот', 'а', 'ведь', 'тем', 'сейчас', 'еще', 'была', 'меня', 'эту', 'же', 'все', 'чуть', 'всю', 'себе', 'из', 'не', 'всех', 'и', 'лучше', 'конечно', 'к', 'кто', 'были', 'куда', 'впрочем', 'то', 'если', 'она', 'один', 'на', 'когда', 'всего', 'в', 'никогда', 'их', 'уж', 'этого', 'есть', 'было', 'быть', 'опять', 'да', 'ней', 'уже', 'такой', 'перед', 'себя', 'том', 'здесь', 'ты', 'ж', 'этот', 'того', 'ним', 'потому', 'за', 'этом', 'вам', 'об', 'вас', 'этой', 'чтоб', 'какой', 'более', 'с', 'тогда', 'хорошо', 'над', 'ему', 'ее', 'них', 'где', 'чего', 'так', 'был', 'мне', 'нас', 'его', 'потом', 'что', 'нибудь', 'теперь', 'между', 'я', 'совсем', 'вы', 'будет', 'они', 'может', 'вдруг', 'нельзя', 'при', 'тебя', 'разве', 'со', 'ни', 'он', 'нет', 'наконец', 'ей', 'два', 'после', 'бы', 'него', 'от', 'чтобы', 'другой', 'мой', 'эти', 'моя', 'им', 'как', 'много', 'какая', 'даже', 'до', 'надо', 'по', 'тут', 'свою', 'тоже', 'тот', 'ничего', 'ну', 'у', 'без', 'сам', 'больше', 'ли', 'про', 'зачем', 'или', 'нее', 'можно', 'чем', 'всегда', 'во', 'почти', 'три', 'только', 'но', 'там'}\n"
     ]
    }
   ],
   "source": [
    "print(stop)"
   ]
  },
  {
   "cell_type": "code",
   "execution_count": 16,
   "metadata": {
    "collapsed": true
   },
   "outputs": [],
   "source": [
    "import html"
   ]
  },
  {
   "cell_type": "code",
   "execution_count": 17,
   "metadata": {
    "collapsed": true
   },
   "outputs": [],
   "source": [
    "?html"
   ]
  },
  {
   "cell_type": "code",
   "execution_count": null,
   "metadata": {
    "collapsed": true
   },
   "outputs": [],
   "source": [
    "with open('')"
   ]
  }
 ],
 "metadata": {
  "kernelspec": {
   "display_name": "Python 3",
   "language": "python",
   "name": "python3"
  },
  "language_info": {
   "codemirror_mode": {
    "name": "ipython",
    "version": 3
   },
   "file_extension": ".py",
   "mimetype": "text/x-python",
   "name": "python",
   "nbconvert_exporter": "python",
   "pygments_lexer": "ipython3",
   "version": "3.6.1"
  }
 },
 "nbformat": 4,
 "nbformat_minor": 2
}
