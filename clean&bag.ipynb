{
 "cells": [
  {
   "cell_type": "code",
   "execution_count": 23,
   "metadata": {
    "collapsed": false
   },
   "outputs": [],
   "source": [
    "import os\n",
    "from bs4 import BeautifulSoup\n",
    "import pymorphy2\n",
    "import re\n",
    "from stop_words import get_stop_words\n",
    "import numpy as np\n",
    "\n",
    "from sklearn.feature_extraction.text import TfidfVectorizer\n",
    "\n",
    "\n",
    "docs = dict()\n",
    "AllowedWords = '[а-я]+'\n",
    "wordNormal = pymorphy2.MorphAnalyzer()\n",
    "vectorizer = TfidfVectorizer(min_df=0.1, max_df=0.7)\n",
    "\n",
    "stop_words = {wordNormal.normal_forms(i)[0] for i in get_stop_words('ru')}"
   ]
  },
  {
   "cell_type": "code",
   "execution_count": 24,
   "metadata": {
    "collapsed": false
   },
   "outputs": [],
   "source": [
    "for name in os.listdir(\"./Data/\"):\n",
    "    with open(\"./Data/\"+name, 'r') as doc:\n",
    "        soup = BeautifulSoup(doc.read(), 'html.parser')\n",
    "        with open(\"./Clean/\"+name, 'w') as clean:\n",
    "            clean.write(soup.getText(' ').strip())"
   ]
  },
  {
   "cell_type": "code",
   "execution_count": 25,
   "metadata": {
    "collapsed": true
   },
   "outputs": [],
   "source": [
    "for name in os.listdir(\"./Clean/\"):\n",
    "    with open(\"./Clean/\"+name, 'r') as doc:\n",
    "        docs[name] = \"\"\n",
    "        for word in re.findall(AllowedWords, doc.read().lower()):\n",
    "            normal = wordNormal.normal_forms(word)[0]\n",
    "            if normal not in stop_words:\n",
    "                docs[name] += str(normal)\n",
    "                docs[name] += ' '\n"
   ]
  },
  {
   "cell_type": "code",
   "execution_count": null,
   "metadata": {
    "collapsed": false
   },
   "outputs": [],
   "source": []
  },
  {
   "cell_type": "code",
   "execution_count": 26,
   "metadata": {
    "collapsed": false
   },
   "outputs": [],
   "source": [
    "X = vectorizer.fit_transform(docs.values())"
   ]
  },
  {
   "cell_type": "code",
   "execution_count": 27,
   "metadata": {
    "collapsed": false
   },
   "outputs": [
    {
     "data": {
      "text/plain": [
       "<77x189 sparse matrix of type '<class 'numpy.float64'>'\n",
       "\twith 2542 stored elements in Compressed Sparse Row format>"
      ]
     },
     "execution_count": 27,
     "metadata": {},
     "output_type": "execute_result"
    }
   ],
   "source": [
    "X"
   ]
  }
 ],
 "metadata": {
  "kernelspec": {
   "display_name": "Python 3",
   "language": "python",
   "name": "python3"
  },
  "language_info": {
   "codemirror_mode": {
    "name": "ipython",
    "version": 3
   },
   "file_extension": ".py",
   "mimetype": "text/x-python",
   "name": "python",
   "nbconvert_exporter": "python",
   "pygments_lexer": "ipython3",
   "version": "3.6.0"
  }
 },
 "nbformat": 4,
 "nbformat_minor": 2
}
